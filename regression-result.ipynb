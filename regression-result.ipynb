{
 "cells": [
  {
   "cell_type": "code",
   "execution_count": 1,
   "id": "a70e29b7",
   "metadata": {
    "_cell_guid": "b1076dfc-b9ad-4769-8c92-a6c4dae69d19",
    "_uuid": "8f2839f25d086af736a60e9eeb907d3b93b6e0e5",
    "execution": {
     "iopub.execute_input": "2024-02-01T10:50:44.422140Z",
     "iopub.status.busy": "2024-02-01T10:50:44.421698Z",
     "iopub.status.idle": "2024-02-01T10:50:45.413041Z",
     "shell.execute_reply": "2024-02-01T10:50:45.410599Z"
    },
    "papermill": {
     "duration": 1.004621,
     "end_time": "2024-02-01T10:50:45.415903",
     "exception": false,
     "start_time": "2024-02-01T10:50:44.411282",
     "status": "completed"
    },
    "tags": []
   },
   "outputs": [
    {
     "name": "stdout",
     "output_type": "stream",
     "text": [
      "/kaggle/input/cs9856-spotify-regression-problem-2024/CS98XRegressionTest.csv\n",
      "/kaggle/input/cs9856-spotify-regression-problem-2024/CS98XRegressionTrain.csv\n"
     ]
    }
   ],
   "source": [
    "# This Python 3 environment comes with many helpful analytics libraries installed\n",
    "# It is defined by the kaggle/python Docker image: https://github.com/kaggle/docker-python\n",
    "# For example, here's several helpful packages to load\n",
    "\n",
    "import numpy as np # linear algebra\n",
    "import pandas as pd # data processing, CSV file I/O (e.g. pd.read_csv)\n",
    "\n",
    "# Input data files are available in the read-only \"../input/\" directory\n",
    "# For example, running this (by clicking run or pressing Shift+Enter) will list all files under the input directory\n",
    "\n",
    "import os\n",
    "for dirname, _, filenames in os.walk('/kaggle/input'):\n",
    "    for filename in filenames:\n",
    "        print(os.path.join(dirname, filename))\n",
    "\n",
    "# You can write up to 20GB to the current directory (/kaggle/working/) that gets preserved as output when you create a version using \"Save & Run All\" \n",
    "# You can also write temporary files to /kaggle/temp/, but they won't be saved outside of the current session"
   ]
  },
  {
   "cell_type": "code",
   "execution_count": 2,
   "id": "a761bb2a",
   "metadata": {
    "execution": {
     "iopub.execute_input": "2024-02-01T10:50:45.432209Z",
     "iopub.status.busy": "2024-02-01T10:50:45.431580Z",
     "iopub.status.idle": "2024-02-01T10:50:47.030188Z",
     "shell.execute_reply": "2024-02-01T10:50:47.029053Z"
    },
    "papermill": {
     "duration": 1.610045,
     "end_time": "2024-02-01T10:50:47.033094",
     "exception": false,
     "start_time": "2024-02-01T10:50:45.423049",
     "status": "completed"
    },
    "tags": []
   },
   "outputs": [
    {
     "data": {
      "text/html": [
       "<div>\n",
       "<style scoped>\n",
       "    .dataframe tbody tr th:only-of-type {\n",
       "        vertical-align: middle;\n",
       "    }\n",
       "\n",
       "    .dataframe tbody tr th {\n",
       "        vertical-align: top;\n",
       "    }\n",
       "\n",
       "    .dataframe thead th {\n",
       "        text-align: right;\n",
       "    }\n",
       "</style>\n",
       "<table border=\"1\" class=\"dataframe\">\n",
       "  <thead>\n",
       "    <tr style=\"text-align: right;\">\n",
       "      <th></th>\n",
       "      <th>Id</th>\n",
       "      <th>title</th>\n",
       "      <th>artist</th>\n",
       "      <th>top genre</th>\n",
       "      <th>year</th>\n",
       "      <th>bpm</th>\n",
       "      <th>nrgy</th>\n",
       "      <th>dnce</th>\n",
       "      <th>dB</th>\n",
       "      <th>live</th>\n",
       "      <th>val</th>\n",
       "      <th>dur</th>\n",
       "      <th>acous</th>\n",
       "      <th>spch</th>\n",
       "      <th>pop</th>\n",
       "    </tr>\n",
       "  </thead>\n",
       "  <tbody>\n",
       "    <tr>\n",
       "      <th>0</th>\n",
       "      <td>1</td>\n",
       "      <td>My Happiness</td>\n",
       "      <td>Connie Francis</td>\n",
       "      <td>adult standards</td>\n",
       "      <td>1996</td>\n",
       "      <td>107</td>\n",
       "      <td>31</td>\n",
       "      <td>45</td>\n",
       "      <td>-8</td>\n",
       "      <td>13</td>\n",
       "      <td>28</td>\n",
       "      <td>150</td>\n",
       "      <td>75</td>\n",
       "      <td>3</td>\n",
       "      <td>44</td>\n",
       "    </tr>\n",
       "    <tr>\n",
       "      <th>1</th>\n",
       "      <td>2</td>\n",
       "      <td>Unchained Melody</td>\n",
       "      <td>The Teddy Bears</td>\n",
       "      <td>NaN</td>\n",
       "      <td>2011</td>\n",
       "      <td>114</td>\n",
       "      <td>44</td>\n",
       "      <td>53</td>\n",
       "      <td>-8</td>\n",
       "      <td>13</td>\n",
       "      <td>47</td>\n",
       "      <td>139</td>\n",
       "      <td>49</td>\n",
       "      <td>3</td>\n",
       "      <td>37</td>\n",
       "    </tr>\n",
       "    <tr>\n",
       "      <th>2</th>\n",
       "      <td>3</td>\n",
       "      <td>How Deep Is Your Love</td>\n",
       "      <td>Bee Gees</td>\n",
       "      <td>adult standards</td>\n",
       "      <td>1979</td>\n",
       "      <td>105</td>\n",
       "      <td>36</td>\n",
       "      <td>63</td>\n",
       "      <td>-9</td>\n",
       "      <td>13</td>\n",
       "      <td>67</td>\n",
       "      <td>245</td>\n",
       "      <td>11</td>\n",
       "      <td>3</td>\n",
       "      <td>77</td>\n",
       "    </tr>\n",
       "    <tr>\n",
       "      <th>3</th>\n",
       "      <td>4</td>\n",
       "      <td>Woman in Love</td>\n",
       "      <td>Barbra Streisand</td>\n",
       "      <td>adult standards</td>\n",
       "      <td>1980</td>\n",
       "      <td>170</td>\n",
       "      <td>28</td>\n",
       "      <td>47</td>\n",
       "      <td>-16</td>\n",
       "      <td>13</td>\n",
       "      <td>33</td>\n",
       "      <td>232</td>\n",
       "      <td>25</td>\n",
       "      <td>3</td>\n",
       "      <td>67</td>\n",
       "    </tr>\n",
       "    <tr>\n",
       "      <th>4</th>\n",
       "      <td>5</td>\n",
       "      <td>Goodbye Yellow Brick Road - Remastered 2014</td>\n",
       "      <td>Elton John</td>\n",
       "      <td>glam rock</td>\n",
       "      <td>1973</td>\n",
       "      <td>121</td>\n",
       "      <td>47</td>\n",
       "      <td>56</td>\n",
       "      <td>-8</td>\n",
       "      <td>15</td>\n",
       "      <td>40</td>\n",
       "      <td>193</td>\n",
       "      <td>45</td>\n",
       "      <td>3</td>\n",
       "      <td>63</td>\n",
       "    </tr>\n",
       "  </tbody>\n",
       "</table>\n",
       "</div>"
      ],
      "text/plain": [
       "   Id                                        title            artist  \\\n",
       "0   1                                 My Happiness    Connie Francis   \n",
       "1   2                             Unchained Melody   The Teddy Bears   \n",
       "2   3                        How Deep Is Your Love          Bee Gees   \n",
       "3   4                                Woman in Love  Barbra Streisand   \n",
       "4   5  Goodbye Yellow Brick Road - Remastered 2014        Elton John   \n",
       "\n",
       "         top genre  year  bpm  nrgy  dnce  dB  live  val  dur  acous  spch  \\\n",
       "0  adult standards  1996  107    31    45  -8    13   28  150     75     3   \n",
       "1              NaN  2011  114    44    53  -8    13   47  139     49     3   \n",
       "2  adult standards  1979  105    36    63  -9    13   67  245     11     3   \n",
       "3  adult standards  1980  170    28    47 -16    13   33  232     25     3   \n",
       "4        glam rock  1973  121    47    56  -8    15   40  193     45     3   \n",
       "\n",
       "   pop  \n",
       "0   44  \n",
       "1   37  \n",
       "2   77  \n",
       "3   67  \n",
       "4   63  "
      ]
     },
     "execution_count": 2,
     "metadata": {},
     "output_type": "execute_result"
    }
   ],
   "source": [
    "import matplotlib.pyplot as plt\n",
    "import seaborn as sns\n",
    "%matplotlib inline\n",
    "import warnings\n",
    "warnings.filterwarnings('ignore')\n",
    "train_df= pd.read_csv(\"/kaggle/input/cs9856-spotify-regression-problem-2024/CS98XRegressionTrain.csv\")\n",
    "train_df.head()"
   ]
  },
  {
   "cell_type": "code",
   "execution_count": 3,
   "id": "5e3e8494",
   "metadata": {
    "execution": {
     "iopub.execute_input": "2024-02-01T10:50:47.050059Z",
     "iopub.status.busy": "2024-02-01T10:50:47.048775Z",
     "iopub.status.idle": "2024-02-01T10:50:47.064000Z",
     "shell.execute_reply": "2024-02-01T10:50:47.063066Z"
    },
    "papermill": {
     "duration": 0.026226,
     "end_time": "2024-02-01T10:50:47.066596",
     "exception": false,
     "start_time": "2024-02-01T10:50:47.040370",
     "status": "completed"
    },
    "tags": []
   },
   "outputs": [
    {
     "data": {
      "text/plain": [
       "((114, 14), (453, 15))"
      ]
     },
     "execution_count": 3,
     "metadata": {},
     "output_type": "execute_result"
    }
   ],
   "source": [
    "test_df= pd.read_csv(\"/kaggle/input/cs9856-spotify-regression-problem-2024/CS98XRegressionTest.csv\")\n",
    "test_df.shape , train_df.shape"
   ]
  },
  {
   "cell_type": "code",
   "execution_count": 4,
   "id": "d37939d1",
   "metadata": {
    "execution": {
     "iopub.execute_input": "2024-02-01T10:50:47.084112Z",
     "iopub.status.busy": "2024-02-01T10:50:47.083316Z",
     "iopub.status.idle": "2024-02-01T10:50:47.116701Z",
     "shell.execute_reply": "2024-02-01T10:50:47.115391Z"
    },
    "papermill": {
     "duration": 0.045314,
     "end_time": "2024-02-01T10:50:47.119405",
     "exception": false,
     "start_time": "2024-02-01T10:50:47.074091",
     "status": "completed"
    },
    "tags": []
   },
   "outputs": [
    {
     "name": "stdout",
     "output_type": "stream",
     "text": [
      "<class 'pandas.core.frame.DataFrame'>\n",
      "RangeIndex: 453 entries, 0 to 452\n",
      "Data columns (total 15 columns):\n",
      " #   Column     Non-Null Count  Dtype \n",
      "---  ------     --------------  ----- \n",
      " 0   Id         453 non-null    int64 \n",
      " 1   title      453 non-null    object\n",
      " 2   artist     453 non-null    object\n",
      " 3   top genre  438 non-null    object\n",
      " 4   year       453 non-null    int64 \n",
      " 5   bpm        453 non-null    int64 \n",
      " 6   nrgy       453 non-null    int64 \n",
      " 7   dnce       453 non-null    int64 \n",
      " 8   dB         453 non-null    int64 \n",
      " 9   live       453 non-null    int64 \n",
      " 10  val        453 non-null    int64 \n",
      " 11  dur        453 non-null    int64 \n",
      " 12  acous      453 non-null    int64 \n",
      " 13  spch       453 non-null    int64 \n",
      " 14  pop        453 non-null    int64 \n",
      "dtypes: int64(12), object(3)\n",
      "memory usage: 53.2+ KB\n"
     ]
    }
   ],
   "source": [
    "train_df.info()"
   ]
  },
  {
   "cell_type": "code",
   "execution_count": 5,
   "id": "d0a16112",
   "metadata": {
    "execution": {
     "iopub.execute_input": "2024-02-01T10:50:47.137854Z",
     "iopub.status.busy": "2024-02-01T10:50:47.136817Z",
     "iopub.status.idle": "2024-02-01T10:50:47.180880Z",
     "shell.execute_reply": "2024-02-01T10:50:47.179499Z"
    },
    "papermill": {
     "duration": 0.056401,
     "end_time": "2024-02-01T10:50:47.183765",
     "exception": false,
     "start_time": "2024-02-01T10:50:47.127364",
     "status": "completed"
    },
    "tags": []
   },
   "outputs": [
    {
     "data": {
      "text/html": [
       "<div>\n",
       "<style scoped>\n",
       "    .dataframe tbody tr th:only-of-type {\n",
       "        vertical-align: middle;\n",
       "    }\n",
       "\n",
       "    .dataframe tbody tr th {\n",
       "        vertical-align: top;\n",
       "    }\n",
       "\n",
       "    .dataframe thead th {\n",
       "        text-align: right;\n",
       "    }\n",
       "</style>\n",
       "<table border=\"1\" class=\"dataframe\">\n",
       "  <thead>\n",
       "    <tr style=\"text-align: right;\">\n",
       "      <th></th>\n",
       "      <th>Id</th>\n",
       "      <th>year</th>\n",
       "      <th>bpm</th>\n",
       "      <th>nrgy</th>\n",
       "      <th>dnce</th>\n",
       "      <th>dB</th>\n",
       "      <th>live</th>\n",
       "      <th>val</th>\n",
       "      <th>dur</th>\n",
       "      <th>acous</th>\n",
       "      <th>spch</th>\n",
       "      <th>pop</th>\n",
       "    </tr>\n",
       "  </thead>\n",
       "  <tbody>\n",
       "    <tr>\n",
       "      <th>count</th>\n",
       "      <td>453.000000</td>\n",
       "      <td>453.000000</td>\n",
       "      <td>453.000000</td>\n",
       "      <td>453.000000</td>\n",
       "      <td>453.000000</td>\n",
       "      <td>453.000000</td>\n",
       "      <td>453.000000</td>\n",
       "      <td>453.000000</td>\n",
       "      <td>453.000000</td>\n",
       "      <td>453.000000</td>\n",
       "      <td>453.000000</td>\n",
       "      <td>453.000000</td>\n",
       "    </tr>\n",
       "    <tr>\n",
       "      <th>mean</th>\n",
       "      <td>227.000000</td>\n",
       "      <td>1991.443709</td>\n",
       "      <td>118.399558</td>\n",
       "      <td>60.070640</td>\n",
       "      <td>59.565121</td>\n",
       "      <td>-8.836645</td>\n",
       "      <td>17.757174</td>\n",
       "      <td>59.465784</td>\n",
       "      <td>226.278146</td>\n",
       "      <td>32.982340</td>\n",
       "      <td>5.660044</td>\n",
       "      <td>60.743929</td>\n",
       "    </tr>\n",
       "    <tr>\n",
       "      <th>std</th>\n",
       "      <td>130.914094</td>\n",
       "      <td>16.776103</td>\n",
       "      <td>25.238713</td>\n",
       "      <td>22.205284</td>\n",
       "      <td>15.484458</td>\n",
       "      <td>3.577187</td>\n",
       "      <td>13.830300</td>\n",
       "      <td>24.539868</td>\n",
       "      <td>63.770380</td>\n",
       "      <td>29.530015</td>\n",
       "      <td>5.550581</td>\n",
       "      <td>13.470083</td>\n",
       "    </tr>\n",
       "    <tr>\n",
       "      <th>min</th>\n",
       "      <td>1.000000</td>\n",
       "      <td>1948.000000</td>\n",
       "      <td>62.000000</td>\n",
       "      <td>7.000000</td>\n",
       "      <td>18.000000</td>\n",
       "      <td>-24.000000</td>\n",
       "      <td>2.000000</td>\n",
       "      <td>6.000000</td>\n",
       "      <td>98.000000</td>\n",
       "      <td>0.000000</td>\n",
       "      <td>2.000000</td>\n",
       "      <td>26.000000</td>\n",
       "    </tr>\n",
       "    <tr>\n",
       "      <th>25%</th>\n",
       "      <td>114.000000</td>\n",
       "      <td>1976.000000</td>\n",
       "      <td>100.000000</td>\n",
       "      <td>43.000000</td>\n",
       "      <td>49.000000</td>\n",
       "      <td>-11.000000</td>\n",
       "      <td>9.000000</td>\n",
       "      <td>42.000000</td>\n",
       "      <td>181.000000</td>\n",
       "      <td>7.000000</td>\n",
       "      <td>3.000000</td>\n",
       "      <td>53.000000</td>\n",
       "    </tr>\n",
       "    <tr>\n",
       "      <th>50%</th>\n",
       "      <td>227.000000</td>\n",
       "      <td>1994.000000</td>\n",
       "      <td>119.000000</td>\n",
       "      <td>63.000000</td>\n",
       "      <td>61.000000</td>\n",
       "      <td>-8.000000</td>\n",
       "      <td>13.000000</td>\n",
       "      <td>61.000000</td>\n",
       "      <td>223.000000</td>\n",
       "      <td>24.000000</td>\n",
       "      <td>4.000000</td>\n",
       "      <td>63.000000</td>\n",
       "    </tr>\n",
       "    <tr>\n",
       "      <th>75%</th>\n",
       "      <td>340.000000</td>\n",
       "      <td>2007.000000</td>\n",
       "      <td>133.000000</td>\n",
       "      <td>78.000000</td>\n",
       "      <td>70.000000</td>\n",
       "      <td>-6.000000</td>\n",
       "      <td>23.000000</td>\n",
       "      <td>80.000000</td>\n",
       "      <td>262.000000</td>\n",
       "      <td>58.000000</td>\n",
       "      <td>6.000000</td>\n",
       "      <td>71.000000</td>\n",
       "    </tr>\n",
       "    <tr>\n",
       "      <th>max</th>\n",
       "      <td>453.000000</td>\n",
       "      <td>2019.000000</td>\n",
       "      <td>199.000000</td>\n",
       "      <td>100.000000</td>\n",
       "      <td>96.000000</td>\n",
       "      <td>-1.000000</td>\n",
       "      <td>93.000000</td>\n",
       "      <td>99.000000</td>\n",
       "      <td>511.000000</td>\n",
       "      <td>100.000000</td>\n",
       "      <td>47.000000</td>\n",
       "      <td>84.000000</td>\n",
       "    </tr>\n",
       "  </tbody>\n",
       "</table>\n",
       "</div>"
      ],
      "text/plain": [
       "               Id         year         bpm        nrgy        dnce  \\\n",
       "count  453.000000   453.000000  453.000000  453.000000  453.000000   \n",
       "mean   227.000000  1991.443709  118.399558   60.070640   59.565121   \n",
       "std    130.914094    16.776103   25.238713   22.205284   15.484458   \n",
       "min      1.000000  1948.000000   62.000000    7.000000   18.000000   \n",
       "25%    114.000000  1976.000000  100.000000   43.000000   49.000000   \n",
       "50%    227.000000  1994.000000  119.000000   63.000000   61.000000   \n",
       "75%    340.000000  2007.000000  133.000000   78.000000   70.000000   \n",
       "max    453.000000  2019.000000  199.000000  100.000000   96.000000   \n",
       "\n",
       "               dB        live         val         dur       acous        spch  \\\n",
       "count  453.000000  453.000000  453.000000  453.000000  453.000000  453.000000   \n",
       "mean    -8.836645   17.757174   59.465784  226.278146   32.982340    5.660044   \n",
       "std      3.577187   13.830300   24.539868   63.770380   29.530015    5.550581   \n",
       "min    -24.000000    2.000000    6.000000   98.000000    0.000000    2.000000   \n",
       "25%    -11.000000    9.000000   42.000000  181.000000    7.000000    3.000000   \n",
       "50%     -8.000000   13.000000   61.000000  223.000000   24.000000    4.000000   \n",
       "75%     -6.000000   23.000000   80.000000  262.000000   58.000000    6.000000   \n",
       "max     -1.000000   93.000000   99.000000  511.000000  100.000000   47.000000   \n",
       "\n",
       "              pop  \n",
       "count  453.000000  \n",
       "mean    60.743929  \n",
       "std     13.470083  \n",
       "min     26.000000  \n",
       "25%     53.000000  \n",
       "50%     63.000000  \n",
       "75%     71.000000  \n",
       "max     84.000000  "
      ]
     },
     "execution_count": 5,
     "metadata": {},
     "output_type": "execute_result"
    }
   ],
   "source": [
    "train_df.describe()"
   ]
  },
  {
   "cell_type": "code",
   "execution_count": 6,
   "id": "06ffda69",
   "metadata": {
    "execution": {
     "iopub.execute_input": "2024-02-01T10:50:47.202497Z",
     "iopub.status.busy": "2024-02-01T10:50:47.202129Z",
     "iopub.status.idle": "2024-02-01T10:50:47.212328Z",
     "shell.execute_reply": "2024-02-01T10:50:47.210990Z"
    },
    "papermill": {
     "duration": 0.022469,
     "end_time": "2024-02-01T10:50:47.214834",
     "exception": false,
     "start_time": "2024-02-01T10:50:47.192365",
     "status": "completed"
    },
    "tags": []
   },
   "outputs": [
    {
     "data": {
      "text/plain": [
       "(453, 15)"
      ]
     },
     "execution_count": 6,
     "metadata": {},
     "output_type": "execute_result"
    }
   ],
   "source": [
    "train_df.drop_duplicates(keep= False).shape"
   ]
  },
  {
   "cell_type": "code",
   "execution_count": 7,
   "id": "57055247",
   "metadata": {
    "execution": {
     "iopub.execute_input": "2024-02-01T10:50:47.233773Z",
     "iopub.status.busy": "2024-02-01T10:50:47.233423Z",
     "iopub.status.idle": "2024-02-01T10:50:47.252294Z",
     "shell.execute_reply": "2024-02-01T10:50:47.250869Z"
    },
    "papermill": {
     "duration": 0.03148,
     "end_time": "2024-02-01T10:50:47.254684",
     "exception": false,
     "start_time": "2024-02-01T10:50:47.223204",
     "status": "completed"
    },
    "tags": []
   },
   "outputs": [
    {
     "data": {
      "text/html": [
       "<div>\n",
       "<style scoped>\n",
       "    .dataframe tbody tr th:only-of-type {\n",
       "        vertical-align: middle;\n",
       "    }\n",
       "\n",
       "    .dataframe tbody tr th {\n",
       "        vertical-align: top;\n",
       "    }\n",
       "\n",
       "    .dataframe thead th {\n",
       "        text-align: right;\n",
       "    }\n",
       "</style>\n",
       "<table border=\"1\" class=\"dataframe\">\n",
       "  <thead>\n",
       "    <tr style=\"text-align: right;\">\n",
       "      <th></th>\n",
       "      <th>Id</th>\n",
       "      <th>title</th>\n",
       "      <th>artist</th>\n",
       "      <th>top genre</th>\n",
       "      <th>year</th>\n",
       "      <th>bpm</th>\n",
       "      <th>nrgy</th>\n",
       "      <th>dnce</th>\n",
       "      <th>dB</th>\n",
       "      <th>live</th>\n",
       "      <th>val</th>\n",
       "      <th>dur</th>\n",
       "      <th>acous</th>\n",
       "      <th>spch</th>\n",
       "      <th>pop</th>\n",
       "    </tr>\n",
       "  </thead>\n",
       "  <tbody>\n",
       "    <tr>\n",
       "      <th>0</th>\n",
       "      <td>1</td>\n",
       "      <td>My Happiness</td>\n",
       "      <td>Connie Francis</td>\n",
       "      <td>adult standards</td>\n",
       "      <td>1996</td>\n",
       "      <td>107</td>\n",
       "      <td>31</td>\n",
       "      <td>45</td>\n",
       "      <td>-8</td>\n",
       "      <td>13</td>\n",
       "      <td>28</td>\n",
       "      <td>150</td>\n",
       "      <td>75</td>\n",
       "      <td>3</td>\n",
       "      <td>44</td>\n",
       "    </tr>\n",
       "    <tr>\n",
       "      <th>2</th>\n",
       "      <td>3</td>\n",
       "      <td>How Deep Is Your Love</td>\n",
       "      <td>Bee Gees</td>\n",
       "      <td>adult standards</td>\n",
       "      <td>1979</td>\n",
       "      <td>105</td>\n",
       "      <td>36</td>\n",
       "      <td>63</td>\n",
       "      <td>-9</td>\n",
       "      <td>13</td>\n",
       "      <td>67</td>\n",
       "      <td>245</td>\n",
       "      <td>11</td>\n",
       "      <td>3</td>\n",
       "      <td>77</td>\n",
       "    </tr>\n",
       "    <tr>\n",
       "      <th>3</th>\n",
       "      <td>4</td>\n",
       "      <td>Woman in Love</td>\n",
       "      <td>Barbra Streisand</td>\n",
       "      <td>adult standards</td>\n",
       "      <td>1980</td>\n",
       "      <td>170</td>\n",
       "      <td>28</td>\n",
       "      <td>47</td>\n",
       "      <td>-16</td>\n",
       "      <td>13</td>\n",
       "      <td>33</td>\n",
       "      <td>232</td>\n",
       "      <td>25</td>\n",
       "      <td>3</td>\n",
       "      <td>67</td>\n",
       "    </tr>\n",
       "    <tr>\n",
       "      <th>4</th>\n",
       "      <td>5</td>\n",
       "      <td>Goodbye Yellow Brick Road - Remastered 2014</td>\n",
       "      <td>Elton John</td>\n",
       "      <td>glam rock</td>\n",
       "      <td>1973</td>\n",
       "      <td>121</td>\n",
       "      <td>47</td>\n",
       "      <td>56</td>\n",
       "      <td>-8</td>\n",
       "      <td>15</td>\n",
       "      <td>40</td>\n",
       "      <td>193</td>\n",
       "      <td>45</td>\n",
       "      <td>3</td>\n",
       "      <td>63</td>\n",
       "    </tr>\n",
       "    <tr>\n",
       "      <th>5</th>\n",
       "      <td>6</td>\n",
       "      <td>Grenade</td>\n",
       "      <td>Bruno Mars</td>\n",
       "      <td>pop</td>\n",
       "      <td>2010</td>\n",
       "      <td>110</td>\n",
       "      <td>56</td>\n",
       "      <td>71</td>\n",
       "      <td>-7</td>\n",
       "      <td>12</td>\n",
       "      <td>23</td>\n",
       "      <td>223</td>\n",
       "      <td>15</td>\n",
       "      <td>6</td>\n",
       "      <td>74</td>\n",
       "    </tr>\n",
       "  </tbody>\n",
       "</table>\n",
       "</div>"
      ],
      "text/plain": [
       "   Id                                        title            artist  \\\n",
       "0   1                                 My Happiness    Connie Francis   \n",
       "2   3                        How Deep Is Your Love          Bee Gees   \n",
       "3   4                                Woman in Love  Barbra Streisand   \n",
       "4   5  Goodbye Yellow Brick Road - Remastered 2014        Elton John   \n",
       "5   6                                      Grenade        Bruno Mars   \n",
       "\n",
       "         top genre  year  bpm  nrgy  dnce  dB  live  val  dur  acous  spch  \\\n",
       "0  adult standards  1996  107    31    45  -8    13   28  150     75     3   \n",
       "2  adult standards  1979  105    36    63  -9    13   67  245     11     3   \n",
       "3  adult standards  1980  170    28    47 -16    13   33  232     25     3   \n",
       "4        glam rock  1973  121    47    56  -8    15   40  193     45     3   \n",
       "5              pop  2010  110    56    71  -7    12   23  223     15     6   \n",
       "\n",
       "   pop  \n",
       "0   44  \n",
       "2   77  \n",
       "3   67  \n",
       "4   63  \n",
       "5   74  "
      ]
     },
     "execution_count": 7,
     "metadata": {},
     "output_type": "execute_result"
    }
   ],
   "source": [
    "train_df=train_df.dropna()\n",
    "train_df.head()"
   ]
  },
  {
   "cell_type": "code",
   "execution_count": 8,
   "id": "c80b195a",
   "metadata": {
    "execution": {
     "iopub.execute_input": "2024-02-01T10:50:47.275194Z",
     "iopub.status.busy": "2024-02-01T10:50:47.273811Z",
     "iopub.status.idle": "2024-02-01T10:50:47.282613Z",
     "shell.execute_reply": "2024-02-01T10:50:47.281292Z"
    },
    "papermill": {
     "duration": 0.022397,
     "end_time": "2024-02-01T10:50:47.285229",
     "exception": false,
     "start_time": "2024-02-01T10:50:47.262832",
     "status": "completed"
    },
    "tags": []
   },
   "outputs": [
    {
     "data": {
      "text/plain": [
       "Index(['Id', 'title', 'artist', 'top genre', 'year', 'bpm', 'nrgy', 'dnce',\n",
       "       'dB', 'live', 'val', 'dur', 'acous', 'spch', 'pop'],\n",
       "      dtype='object')"
      ]
     },
     "execution_count": 8,
     "metadata": {},
     "output_type": "execute_result"
    }
   ],
   "source": [
    "train_df.columns"
   ]
  },
  {
   "cell_type": "code",
   "execution_count": 9,
   "id": "a456f3ae",
   "metadata": {
    "execution": {
     "iopub.execute_input": "2024-02-01T10:50:47.303676Z",
     "iopub.status.busy": "2024-02-01T10:50:47.303287Z",
     "iopub.status.idle": "2024-02-01T10:50:47.308415Z",
     "shell.execute_reply": "2024-02-01T10:50:47.307274Z"
    },
    "papermill": {
     "duration": 0.0171,
     "end_time": "2024-02-01T10:50:47.310645",
     "exception": false,
     "start_time": "2024-02-01T10:50:47.293545",
     "status": "completed"
    },
    "tags": []
   },
   "outputs": [],
   "source": [
    "# Drop the categorical Varibles and year column\n",
    "columns= ['Id',\n",
    "    #'title', 'artist', 'top genre', 'year', \n",
    "       'bpm', 'nrgy', \n",
    "    'dnce','dB', 'live', \n",
    "    'val', 'dur', \n",
    "    'acous', 'spch', 'pop']"
   ]
  },
  {
   "cell_type": "code",
   "execution_count": 10,
   "id": "207956a0",
   "metadata": {
    "execution": {
     "iopub.execute_input": "2024-02-01T10:50:47.330178Z",
     "iopub.status.busy": "2024-02-01T10:50:47.329325Z",
     "iopub.status.idle": "2024-02-01T10:50:47.338729Z",
     "shell.execute_reply": "2024-02-01T10:50:47.337441Z"
    },
    "papermill": {
     "duration": 0.022539,
     "end_time": "2024-02-01T10:50:47.341635",
     "exception": false,
     "start_time": "2024-02-01T10:50:47.319096",
     "status": "completed"
    },
    "tags": []
   },
   "outputs": [
    {
     "data": {
      "text/plain": [
       "(438, 11)"
      ]
     },
     "execution_count": 10,
     "metadata": {},
     "output_type": "execute_result"
    }
   ],
   "source": [
    "# dropping columns not needed\n",
    "train_df= train_df[columns]\n",
    "train_df.shape"
   ]
  },
  {
   "cell_type": "code",
   "execution_count": 11,
   "id": "7ad74796",
   "metadata": {
    "execution": {
     "iopub.execute_input": "2024-02-01T10:50:47.360832Z",
     "iopub.status.busy": "2024-02-01T10:50:47.360446Z",
     "iopub.status.idle": "2024-02-01T10:50:48.194806Z",
     "shell.execute_reply": "2024-02-01T10:50:48.193829Z"
    },
    "papermill": {
     "duration": 0.847551,
     "end_time": "2024-02-01T10:50:48.197984",
     "exception": false,
     "start_time": "2024-02-01T10:50:47.350433",
     "status": "completed"
    },
    "tags": []
   },
   "outputs": [
    {
     "data": {
      "text/plain": [
       "<Axes: >"
      ]
     },
     "execution_count": 11,
     "metadata": {},
     "output_type": "execute_result"
    },
    {
     "data": {
      "image/png": "[encoded data removed]",
      "text/plain": [
       "<Figure size 1600x800 with 2 Axes>"
      ]
     },
     "metadata": {},
     "output_type": "display_data"
    }
   ],
   "source": [
    "# Plotting correlations on a heatmap\n",
    "corl=train_df.corr()\n",
    "plt.figure(figsize=(16, 8))\n",
    "sns.heatmap(corl,cmap=\"coolwarm\",annot=True)"
   ]
  },
  {
   "cell_type": "code",
   "execution_count": 12,
   "id": "df2fa2d1",
   "metadata": {
    "execution": {
     "iopub.execute_input": "2024-02-01T10:50:48.220946Z",
     "iopub.status.busy": "2024-02-01T10:50:48.220575Z",
     "iopub.status.idle": "2024-02-01T10:50:48.225492Z",
     "shell.execute_reply": "2024-02-01T10:50:48.224381Z"
    },
    "papermill": {
     "duration": 0.01919,
     "end_time": "2024-02-01T10:50:48.228001",
     "exception": false,
     "start_time": "2024-02-01T10:50:48.208811",
     "status": "completed"
    },
    "tags": []
   },
   "outputs": [],
   "source": [
    "# from the Correlation table we shall drop this columns that are highly correlated \n",
    "# and some columns which are not related to the popularity of the Music\n",
    "columns= [#'Id',#'title', 'artist', 'top genre', 'year', \n",
    "       'bpm', \n",
    "    #'nrgy', \n",
    "    'dnce','dB', \n",
    "    #'live', \n",
    "    'val', 'dur', \n",
    "    'acous', 'spch', 'pop']"
   ]
  },
  {
   "cell_type": "code",
   "execution_count": 13,
   "id": "af325d8b",
   "metadata": {
    "execution": {
     "iopub.execute_input": "2024-02-01T10:50:48.250522Z",
     "iopub.status.busy": "2024-02-01T10:50:48.250138Z",
     "iopub.status.idle": "2024-02-01T10:50:48.257847Z",
     "shell.execute_reply": "2024-02-01T10:50:48.256745Z"
    },
    "papermill": {
     "duration": 0.022031,
     "end_time": "2024-02-01T10:50:48.260437",
     "exception": false,
     "start_time": "2024-02-01T10:50:48.238406",
     "status": "completed"
    },
    "tags": []
   },
   "outputs": [
    {
     "data": {
      "text/plain": [
       "(438, 8)"
      ]
     },
     "execution_count": 13,
     "metadata": {},
     "output_type": "execute_result"
    }
   ],
   "source": [
    "# dropping columns not needed\n",
    "train_df= train_df[columns]\n",
    "train_df.shape"
   ]
  },
  {
   "cell_type": "code",
   "execution_count": 14,
   "id": "8a3f3e89",
   "metadata": {
    "execution": {
     "iopub.execute_input": "2024-02-01T10:50:48.282874Z",
     "iopub.status.busy": "2024-02-01T10:50:48.282515Z",
     "iopub.status.idle": "2024-02-01T10:50:50.621258Z",
     "shell.execute_reply": "2024-02-01T10:50:50.619777Z"
    },
    "papermill": {
     "duration": 2.353787,
     "end_time": "2024-02-01T10:50:50.624636",
     "exception": false,
     "start_time": "2024-02-01T10:50:48.270849",
     "status": "completed"
    },
    "tags": []
   },
   "outputs": [
    {
     "data": {
      "text/plain": [
       "[Text(0.5, 1.0, 'pop')]"
      ]
     },
     "execution_count": 14,
     "metadata": {},
     "output_type": "execute_result"
    },
    {
     "data": {
      "image/png": "[encoded data removed]",
      "text/plain": [
       "<Figure size 1000x900 with 9 Axes>"
      ]
     },
     "metadata": {},
     "output_type": "display_data"
    }
   ],
   "source": [
    "# kde of Features selected\n",
    "fig, ax = plt.subplots(3,3, figsize=(10,9))\n",
    "sns.histplot(x=train_df[\"bpm\"], ax=ax[0][0], color=\"red\", kde=True).set(title='bpm')\n",
    "sns.histplot(x=train_df[\"dnce\"], ax=ax[0][1], color=\"yellow\", kde=True).set(title='dnce')\n",
    "sns.histplot(x=train_df[\"dB\"], ax=ax[0][2], color=\"green\", kde=True).set(title='dB')\n",
    "sns.histplot(x=train_df[\"val\"], ax=ax[1][0], color=\"violet\", kde=True).set(title='val')\n",
    "sns.histplot(x=train_df[\"acous\"], ax=ax[1][1], color=\"blue\", kde=True).set(title='acous')\n",
    "sns.histplot(x=train_df[\"dur\"], ax=ax[1][2], color=\"red\", kde=True).set(title='dur')\n",
    "sns.histplot(x=train_df[\"spch\"], ax=ax[2][0], color=\"green\", kde=True).set(title='spch')\n",
    "sns.histplot(x=train_df[\"pop\"], ax=ax[2][1], color=\"purple\", kde=True).set(title='pop')"
   ]
  },
  {
   "cell_type": "code",
   "execution_count": 15,
   "id": "03cb783a",
   "metadata": {
    "execution": {
     "iopub.execute_input": "2024-02-01T10:50:50.652999Z",
     "iopub.status.busy": "2024-02-01T10:50:50.652567Z",
     "iopub.status.idle": "2024-02-01T10:50:50.659489Z",
     "shell.execute_reply": "2024-02-01T10:50:50.658135Z"
    },
    "papermill": {
     "duration": 0.024334,
     "end_time": "2024-02-01T10:50:50.662156",
     "exception": false,
     "start_time": "2024-02-01T10:50:50.637822",
     "status": "completed"
    },
    "tags": []
   },
   "outputs": [],
   "source": [
    "# Feature selection\n",
    "X= train_df[['bpm', 'dnce','dB', 'val', 'dur', 'acous', 'spch']]\n",
    "y= train_df['pop']"
   ]
  },
  {
   "cell_type": "code",
   "execution_count": 16,
   "id": "ad10212b",
   "metadata": {
    "execution": {
     "iopub.execute_input": "2024-02-01T10:50:50.691677Z",
     "iopub.status.busy": "2024-02-01T10:50:50.690756Z",
     "iopub.status.idle": "2024-02-01T10:50:51.064547Z",
     "shell.execute_reply": "2024-02-01T10:50:51.062917Z"
    },
    "papermill": {
     "duration": 0.391805,
     "end_time": "2024-02-01T10:50:51.067720",
     "exception": false,
     "start_time": "2024-02-01T10:50:50.675915",
     "status": "completed"
    },
    "tags": []
   },
   "outputs": [
    {
     "name": "stdout",
     "output_type": "stream",
     "text": [
      "(324, 7)\n",
      "(114, 7)\n"
     ]
    }
   ],
   "source": [
    "# Splitting the data into Train and Test Data.\n",
    "from sklearn.model_selection import train_test_split\n",
    "X_train, X_test, y_train, y_test = train_test_split(X,y, test_size=0.26, random_state=42)\n",
    "print(X_train.shape) \n",
    "print(X_test.shape) "
   ]
  },
  {
   "cell_type": "code",
   "execution_count": 17,
   "id": "83c9033e",
   "metadata": {
    "execution": {
     "iopub.execute_input": "2024-02-01T10:50:51.096982Z",
     "iopub.status.busy": "2024-02-01T10:50:51.096512Z",
     "iopub.status.idle": "2024-02-01T10:50:51.108525Z",
     "shell.execute_reply": "2024-02-01T10:50:51.107310Z"
    },
    "papermill": {
     "duration": 0.029797,
     "end_time": "2024-02-01T10:50:51.111240",
     "exception": false,
     "start_time": "2024-02-01T10:50:51.081443",
     "status": "completed"
    },
    "tags": []
   },
   "outputs": [],
   "source": [
    "from sklearn.preprocessing import StandardScaler \n",
    "scaler = StandardScaler() \n",
    "scaler.fit(X_train) \n",
    "X_train = scaler.transform(X_train) \n",
    "X_test = scaler.transform(X_test)"
   ]
  },
  {
   "cell_type": "markdown",
   "id": "42ff1ffa",
   "metadata": {
    "papermill": {
     "duration": 0.011808,
     "end_time": "2024-02-01T10:50:51.135029",
     "exception": false,
     "start_time": "2024-02-01T10:50:51.123221",
     "status": "completed"
    },
    "tags": []
   },
   "source": [
    "## SELECT FROM THE MODEL"
   ]
  },
  {
   "cell_type": "code",
   "execution_count": 18,
   "id": "0c746ddb",
   "metadata": {
    "execution": {
     "iopub.execute_input": "2024-02-01T10:50:51.161140Z",
     "iopub.status.busy": "2024-02-01T10:50:51.160694Z",
     "iopub.status.idle": "2024-02-01T10:50:51.310818Z",
     "shell.execute_reply": "2024-02-01T10:50:51.309678Z"
    },
    "papermill": {
     "duration": 0.166164,
     "end_time": "2024-02-01T10:50:51.313428",
     "exception": false,
     "start_time": "2024-02-01T10:50:51.147264",
     "status": "completed"
    },
    "tags": []
   },
   "outputs": [
    {
     "data": {
      "text/plain": [
       "10.555585986654417"
      ]
     },
     "execution_count": 18,
     "metadata": {},
     "output_type": "execute_result"
    }
   ],
   "source": [
    "# LinearRegression\n",
    "from sklearn.metrics import mean_squared_error\n",
    "from sklearn.linear_model import LinearRegression\n",
    "linreg = LinearRegression()\n",
    "linreg.fit(X_train, y_train)\n",
    "pred = linreg.predict(X_test)\n",
    "lin_mse = mean_squared_error(y_test, pred)\n",
    "lin_rmse = np.sqrt(lin_mse)\n",
    "lin_rmse"
   ]
  },
  {
   "cell_type": "code",
   "execution_count": 19,
   "id": "33d25a84",
   "metadata": {
    "execution": {
     "iopub.execute_input": "2024-02-01T10:50:51.344646Z",
     "iopub.status.busy": "2024-02-01T10:50:51.344188Z",
     "iopub.status.idle": "2024-02-01T10:50:51.359213Z",
     "shell.execute_reply": "2024-02-01T10:50:51.358128Z"
    },
    "papermill": {
     "duration": 0.033496,
     "end_time": "2024-02-01T10:50:51.362877",
     "exception": false,
     "start_time": "2024-02-01T10:50:51.329381",
     "status": "completed"
    },
    "tags": []
   },
   "outputs": [
    {
     "data": {
      "text/plain": [
       "10.5704213757467"
      ]
     },
     "execution_count": 19,
     "metadata": {},
     "output_type": "execute_result"
    }
   ],
   "source": [
    "# Lasso Regression\n",
    "from sklearn.linear_model import Lasso\n",
    "lassoreg = Lasso(alpha=0.5)\n",
    "lassoreg.fit(X_train, y_train)\n",
    "predlasso = lassoreg.predict(X_test)\n",
    "lasso_mse = mean_squared_error(y_test, predlasso)\n",
    "lasso_rmse = np.sqrt(lasso_mse)\n",
    "lasso_rmse"
   ]
  },
  {
   "cell_type": "code",
   "execution_count": 20,
   "id": "48dbbde5",
   "metadata": {
    "execution": {
     "iopub.execute_input": "2024-02-01T10:50:51.394764Z",
     "iopub.status.busy": "2024-02-01T10:50:51.394011Z",
     "iopub.status.idle": "2024-02-01T10:50:51.408174Z",
     "shell.execute_reply": "2024-02-01T10:50:51.406623Z"
    },
    "papermill": {
     "duration": 0.032506,
     "end_time": "2024-02-01T10:50:51.410828",
     "exception": false,
     "start_time": "2024-02-01T10:50:51.378322",
     "status": "completed"
    },
    "tags": []
   },
   "outputs": [
    {
     "data": {
      "text/plain": [
       "10.554937100684404"
      ]
     },
     "execution_count": 20,
     "metadata": {},
     "output_type": "execute_result"
    }
   ],
   "source": [
    "#  Ridge Regression\n",
    "from sklearn.linear_model import Ridge\n",
    "Ridgereg =Ridge(alpha=0.5)\n",
    "Ridgereg.fit(X_train, y_train)\n",
    "predRidge = Ridgereg.predict(X_test)\n",
    "Ridge_mse = mean_squared_error(y_test, predRidge)\n",
    "Ridge_rmse = np.sqrt(Ridge_mse)\n",
    "Ridge_rmse"
   ]
  },
  {
   "cell_type": "code",
   "execution_count": 21,
   "id": "d6f0a028",
   "metadata": {
    "execution": {
     "iopub.execute_input": "2024-02-01T10:50:51.439414Z",
     "iopub.status.busy": "2024-02-01T10:50:51.439029Z",
     "iopub.status.idle": "2024-02-01T10:50:51.900081Z",
     "shell.execute_reply": "2024-02-01T10:50:51.898761Z"
    },
    "papermill": {
     "duration": 0.478157,
     "end_time": "2024-02-01T10:50:51.902880",
     "exception": false,
     "start_time": "2024-02-01T10:50:51.424723",
     "status": "completed"
    },
    "tags": []
   },
   "outputs": [
    {
     "data": {
      "text/plain": [
       "10.214729260222667"
      ]
     },
     "execution_count": 21,
     "metadata": {},
     "output_type": "execute_result"
    }
   ],
   "source": [
    "# RandomForest Regression\n",
    "from sklearn.ensemble import RandomForestRegressor \n",
    "forest_model = RandomForestRegressor(random_state=1)\n",
    "forest_model.fit(X_train, y_train)\n",
    "predforest = forest_model.predict(X_test)\n",
    "forest_mse = mean_squared_error(y_test, predforest)\n",
    "forest_rmse = np.sqrt(forest_mse)\n",
    "forest_rmse"
   ]
  },
  {
   "cell_type": "code",
   "execution_count": 22,
   "id": "fd19c097",
   "metadata": {
    "execution": {
     "iopub.execute_input": "2024-02-01T10:50:51.933481Z",
     "iopub.status.busy": "2024-02-01T10:50:51.932228Z",
     "iopub.status.idle": "2024-02-01T10:50:51.945668Z",
     "shell.execute_reply": "2024-02-01T10:50:51.944242Z"
    },
    "papermill": {
     "duration": 0.03277,
     "end_time": "2024-02-01T10:50:51.948390",
     "exception": false,
     "start_time": "2024-02-01T10:50:51.915620",
     "status": "completed"
    },
    "tags": []
   },
   "outputs": [
    {
     "data": {
      "text/plain": [
       "10.609727413533003"
      ]
     },
     "execution_count": 22,
     "metadata": {},
     "output_type": "execute_result"
    }
   ],
   "source": [
    "# KNeighborsRegression\n",
    "from sklearn.neighbors import KNeighborsRegressor\n",
    "Knnreg = KNeighborsRegressor()\n",
    "Knnreg.fit(X_train, y_train)\n",
    "predKnn = Knnreg.predict(X_test)\n",
    "Knn_mse = mean_squared_error(y_test, predKnn)\n",
    "Knn_rmse = np.sqrt(Knn_mse)\n",
    "Knn_rmse"
   ]
  },
  {
   "cell_type": "markdown",
   "id": "1fd1b418",
   "metadata": {
    "papermill": {
     "duration": 0.012715,
     "end_time": "2024-02-01T10:50:51.974049",
     "exception": false,
     "start_time": "2024-02-01T10:50:51.961334",
     "status": "completed"
    },
    "tags": []
   },
   "source": [
    "## Using the RandomForest Regression Model"
   ]
  },
  {
   "cell_type": "code",
   "execution_count": 23,
   "id": "6753c763",
   "metadata": {
    "execution": {
     "iopub.execute_input": "2024-02-01T10:50:52.003544Z",
     "iopub.status.busy": "2024-02-01T10:50:52.003167Z",
     "iopub.status.idle": "2024-02-01T10:50:52.270390Z",
     "shell.execute_reply": "2024-02-01T10:50:52.268890Z"
    },
    "papermill": {
     "duration": 0.286665,
     "end_time": "2024-02-01T10:50:52.273842",
     "exception": false,
     "start_time": "2024-02-01T10:50:51.987177",
     "status": "completed"
    },
    "tags": []
   },
   "outputs": [],
   "source": [
    "# Predicting with RandomForest Regression\n",
    "from sklearn.ensemble import RandomForestRegressor \n",
    "forest_model = RandomForestRegressor(random_state=1)\n",
    "forest_model.fit(X_train, y_train)\n",
    "submission_pred = forest_model.predict(X_test)"
   ]
  },
  {
   "cell_type": "code",
   "execution_count": 24,
   "id": "30803f5e",
   "metadata": {
    "execution": {
     "iopub.execute_input": "2024-02-01T10:50:52.302383Z",
     "iopub.status.busy": "2024-02-01T10:50:52.301330Z",
     "iopub.status.idle": "2024-02-01T10:50:52.309946Z",
     "shell.execute_reply": "2024-02-01T10:50:52.309194Z"
    },
    "papermill": {
     "duration": 0.024411,
     "end_time": "2024-02-01T10:50:52.312151",
     "exception": false,
     "start_time": "2024-02-01T10:50:52.287740",
     "status": "completed"
    },
    "tags": []
   },
   "outputs": [],
   "source": [
    "test_df=pd.read_csv(\"/kaggle/input/cs9856-spotify-regression-problem-2024/CS98XRegressionTest.csv\")\n",
    "test_ids=test_df[\"Id\"]"
   ]
  },
  {
   "cell_type": "code",
   "execution_count": 25,
   "id": "abc42b16",
   "metadata": {
    "execution": {
     "iopub.execute_input": "2024-02-01T10:50:52.338875Z",
     "iopub.status.busy": "2024-02-01T10:50:52.337536Z",
     "iopub.status.idle": "2024-02-01T10:50:52.344448Z",
     "shell.execute_reply": "2024-02-01T10:50:52.343044Z"
    },
    "papermill": {
     "duration": 0.022518,
     "end_time": "2024-02-01T10:50:52.346715",
     "exception": false,
     "start_time": "2024-02-01T10:50:52.324197",
     "status": "completed"
    },
    "tags": []
   },
   "outputs": [
    {
     "name": "stdout",
     "output_type": "stream",
     "text": [
      "(114,)\n",
      "(114, 14)\n"
     ]
    }
   ],
   "source": [
    "print(submission_pred.shape) \n",
    "print(test_df.shape) "
   ]
  },
  {
   "cell_type": "code",
   "execution_count": 26,
   "id": "a631cfa3",
   "metadata": {
    "execution": {
     "iopub.execute_input": "2024-02-01T10:50:52.377575Z",
     "iopub.status.busy": "2024-02-01T10:50:52.377236Z",
     "iopub.status.idle": "2024-02-01T10:50:52.386869Z",
     "shell.execute_reply": "2024-02-01T10:50:52.385934Z"
    },
    "papermill": {
     "duration": 0.030193,
     "end_time": "2024-02-01T10:50:52.389298",
     "exception": false,
     "start_time": "2024-02-01T10:50:52.359105",
     "status": "completed"
    },
    "tags": []
   },
   "outputs": [],
   "source": [
    "#popularity\n",
    "df= pd.DataFrame({\"Id\":test_ids.values,\"pop\":submission_pred})\n",
    "df.to_csv(\"submission.csv\",index=False)\n"
   ]
  }
 ],
 "metadata": {
  "kaggle": {
   "accelerator": "none",
   "dataSources": [
    {
     "databundleVersionId": 7599120,
     "sourceId": 68426,
     "sourceType": "competition"
    }
   ],
   "dockerImageVersionId": 30646,
   "isGpuEnabled": false,
   "isInternetEnabled": true,
   "language": "python",
   "sourceType": "notebook"
  },
  "kernelspec": {
   "display_name": "Python 3",
   "language": "python",
   "name": "python3"
  },
  "language_info": {
   "codemirror_mode": {
    "name": "ipython",
    "version": 3
   },
   "file_extension": ".py",
   "mimetype": "text/x-python",
   "name": "python",
   "nbconvert_exporter": "python",
   "pygments_lexer": "ipython3",
   "version": "3.10.13"
  },
  "papermill": {
   "default_parameters": {},
   "duration": 11.661535,
   "end_time": "2024-02-01T10:50:53.122800",
   "environment_variables": {},
   "exception": null,
   "input_path": "__notebook__.ipynb",
   "output_path": "__notebook__.ipynb",
   "parameters": {},
   "start_time": "2024-02-01T10:50:41.461265",
   "version": "2.5.0"
  }
 },
 "nbformat": 4,
 "nbformat_minor": 5
}
